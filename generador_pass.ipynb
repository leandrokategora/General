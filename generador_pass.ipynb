{
  "nbformat": 4,
  "nbformat_minor": 0,
  "metadata": {
    "colab": {
      "name": "generador_pass.ipynb",
      "provenance": [],
      "authorship_tag": "ABX9TyPydoVCmS5JdXVQCbqRe6C3",
      "include_colab_link": true
    },
    "kernelspec": {
      "name": "python3",
      "display_name": "Python 3"
    },
    "language_info": {
      "name": "python"
    }
  },
  "cells": [
    {
      "cell_type": "markdown",
      "metadata": {
        "id": "view-in-github",
        "colab_type": "text"
      },
      "source": [
        "<a href=\"https://colab.research.google.com/github/leandrokategora/Python_intermedio/blob/master/generador_pass.ipynb\" target=\"_parent\"><img src=\"https://colab.research.google.com/assets/colab-badge.svg\" alt=\"Open In Colab\"/></a>"
      ]
    },
    {
      "cell_type": "code",
      "execution_count": 2,
      "metadata": {
        "id": "x4Krt30kfLNo"
      },
      "outputs": [],
      "source": [
        "from random import random, sample\n",
        "import random\n",
        "from pandas import pandas as pd \n",
        "from google.colab import drive\n"
      ]
    },
    {
      "cell_type": "code",
      "source": [
        "drive.mount(\"/content/drive\") \n",
        "%cd \"/content/drive/My Drive/Colab Notebooks\""
      ],
      "metadata": {
        "colab": {
          "base_uri": "https://localhost:8080/"
        },
        "id": "sfvHSpe4kf6W",
        "outputId": "12fd49cc-e023-4f45-cb7f-c298b3690ada"
      },
      "execution_count": 4,
      "outputs": [
        {
          "output_type": "stream",
          "name": "stdout",
          "text": [
            "Drive already mounted at /content/drive; to attempt to forcibly remount, call drive.mount(\"/content/drive\", force_remount=True).\n",
            "/content/drive/My Drive/Colab Notebooks\n"
          ]
        }
      ]
    },
    {
      "cell_type": "code",
      "source": [
        "dir_pandas = '/content/drive/My Drive/Colab Notebooks/{}'.format('contraseñas.csv')"
      ],
      "metadata": {
        "id": "p99YrM77kswO"
      },
      "execution_count": 5,
      "outputs": []
    },
    {
      "cell_type": "code",
      "source": [
        "lower = 'abcdefghijklmnñopqrstuvwxyz'\n",
        "upper = 'ABCDEFGHIJKLMNÑOPQRSTUVWXYZ'\n",
        "numero = '1234567890'\n",
        "simbol = '''\"@#+*^<>}{][-_$%&/)(?!'`'''\n",
        "all_ = lower + upper + numero + simbol\n",
        "length = 16 "
      ],
      "metadata": {
        "id": "RtNeHMiKjnnG"
      },
      "execution_count": 6,
      "outputs": []
    },
    {
      "cell_type": "code",
      "source": [
        "password = \"\".join(random.sample(all_, length))"
      ],
      "metadata": {
        "id": "5ihDwgz4jr6t"
      },
      "execution_count": 7,
      "outputs": []
    },
    {
      "cell_type": "code",
      "source": [
        "plataforma =  input(\"A que plataforma corresponde: \")\n",
        "\n",
        "user = input(\"A que Usuario corresponde la contraseña: \")"
      ],
      "metadata": {
        "colab": {
          "base_uri": "https://localhost:8080/"
        },
        "id": "gcqH8OO7j2Qf",
        "outputId": "a9a3ede5-faf1-40fb-818c-643c334bb59f"
      },
      "execution_count": 8,
      "outputs": [
        {
          "name": "stdout",
          "output_type": "stream",
          "text": [
            "A que plataforma corresponde: ubisoft\n",
            "A que Usuario corresponde la contraseña: legaka\n"
          ]
        }
      ]
    },
    {
      "cell_type": "code",
      "source": [
        "dict_pass = {\n",
        "    'Plataforma' :     [str(plataforma)],\n",
        "    'Usuario' : [str(user)],\n",
        "    'Contraseña' :    [str(password)]\n",
        "}"
      ],
      "metadata": {
        "id": "jEtgqY2Gj7Y-"
      },
      "execution_count": 9,
      "outputs": []
    },
    {
      "cell_type": "code",
      "source": [
        "df = pd.DataFrame(dict_pass)"
      ],
      "metadata": {
        "id": "fgRmKkE-j--9"
      },
      "execution_count": 10,
      "outputs": []
    },
    {
      "cell_type": "code",
      "source": [
        "df.to_csv(dir_pandas, index=False)"
      ],
      "metadata": {
        "id": "TGKqF3iEkGne"
      },
      "execution_count": 12,
      "outputs": []
    },
    {
      "cell_type": "code",
      "source": [
        "cuenta = plataforma + \": \" + user + \"; \" + password\n",
        "print(cuenta)"
      ],
      "metadata": {
        "colab": {
          "base_uri": "https://localhost:8080/"
        },
        "id": "7Y47vo1ZkA-O",
        "outputId": "fa3c058a-4308-4b23-99f5-d95c1d2e0aac"
      },
      "execution_count": 14,
      "outputs": [
        {
          "output_type": "stream",
          "name": "stdout",
          "text": [
            "ubisoft: legaka; oK^O8q#r1%s><Ñ6Q\n"
          ]
        }
      ]
    }
  ]
}