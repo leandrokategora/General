{
 "cells": [
  {
   "cell_type": "markdown",
   "metadata": {},
   "source": [
    "**Conexion a la base de datos utilizando SQLalchemy para importar masivamente los datos de las diferentes tablas**"
   ]
  },
  {
   "cell_type": "code",
   "execution_count": 4,
   "metadata": {},
   "outputs": [],
   "source": [
    "import sqlalchemy as sa\n",
    "import urllib"
   ]
  },
  {
   "cell_type": "code",
   "execution_count": 5,
   "metadata": {},
   "outputs": [],
   "source": [
    "parameters = urllib.parse.quote_plus(\"DRIVER={mysql};\"\n",
    "                                     \"Server=127.0.0.1;\"\n",
    "                                     \"DATABASE=rkd_challenge;\"\n",
    "                                     \"UID=root@localhost;\"\n",
    "                                     \"PWD=\")"
   ]
  },
  {
   "cell_type": "code",
   "execution_count": 6,
   "metadata": {},
   "outputs": [
    {
     "name": "stdout",
     "output_type": "stream",
     "text": [
      "Conexion exitosa\n"
     ]
    }
   ],
   "source": [
    "try:\n",
    "    engine = sa.create_engine(\"mysql+pyodbc:///?odbc_conect={}\".format(parameters))\n",
    "    print('Conexion exitosa')\n",
    "except Exception as ex:\n",
    "    print(ex)\n",
    "    "
   ]
  }
 ],
 "metadata": {
  "kernelspec": {
   "display_name": "Python 3.10.2 64-bit (system)",
   "language": "python",
   "name": "python3"
  },
  "language_info": {
   "codemirror_mode": {
    "name": "ipython",
    "version": 3
   },
   "file_extension": ".py",
   "mimetype": "text/x-python",
   "name": "python",
   "nbconvert_exporter": "python",
   "pygments_lexer": "ipython3",
   "version": "3.10.2"
  },
  "orig_nbformat": 4,
  "vscode": {
   "interpreter": {
    "hash": "7a280ae802dc2277121302d2017bde43acb5a31c1712d9452431c45a278ff15e"
   }
  }
 },
 "nbformat": 4,
 "nbformat_minor": 2
}
