{
 "cells": [
  {
   "cell_type": "markdown",
   "metadata": {},
   "source": [
    "**Conexion a la base de datos utilizando SQLalchemy para importar masivamente los datos de las diferentes tablas**"
   ]
  },
  {
   "cell_type": "code",
   "execution_count": 1,
   "metadata": {},
   "outputs": [],
   "source": [
    "import sqlalchemy as sa\n",
    "import urllib"
   ]
  },
  {
   "cell_type": "code",
   "execution_count": 4,
   "metadata": {},
   "outputs": [],
   "source": [
    "parameters = urllib.parse.quote_plus(\n",
    "                                    'DRIVER=MySQL ODBC 8.0 Unicode Driver;'\n",
    "                                    'SERVER=localhost;'\n",
    "                                    'DATABASE=rkd_challenge;'\n",
    "                                    'UID=admin;'\n",
    "                                    'PWD=admin1234;'\n",
    "                                    )"
   ]
  },
  {
   "cell_type": "code",
   "execution_count": 6,
   "metadata": {},
   "outputs": [
    {
     "name": "stdout",
     "output_type": "stream",
     "text": [
      "Conexion exitosa\n",
      "mysql+pyodbc:///?odbc_connect=DRIVER%3DMySQL+ODBC+8.0+Unicode+Driver%3BSERVER%3Dlocalhost%3BDATABASE%3Drkd_challenge%3BUID%3Dadmin%3BPWD%3Dadmin1234%3B\n"
     ]
    }
   ],
   "source": [
    "try:\n",
    "    engine = sa.create_engine(\"mysql+pyodbc:///?odbc_conect={}\".format(parameters))\n",
    "    print('Conexion exitosa')\n",
    "except Exception as ex:\n",
    "    print(ex)\n",
    "print(\"mysql+pyodbc:///?odbc_connect={}\".format(parameters))    "
   ]
  }
 ],
 "metadata": {
  "kernelspec": {
   "display_name": "Python 3.10.4 64-bit (system)",
   "language": "python",
   "name": "python3"
  },
  "language_info": {
   "codemirror_mode": {
    "name": "ipython",
    "version": 3
   },
   "file_extension": ".py",
   "mimetype": "text/x-python",
   "name": "python",
   "nbconvert_exporter": "python",
   "pygments_lexer": "ipython3",
   "version": "3.10.4"
  },
  "orig_nbformat": 4,
  "vscode": {
   "interpreter": {
    "hash": "fa8cab1bad71377b3e50ee4df9005f2d0dce3937bc143745a7570caa70559846"
   }
  }
 },
 "nbformat": 4,
 "nbformat_minor": 2
}
