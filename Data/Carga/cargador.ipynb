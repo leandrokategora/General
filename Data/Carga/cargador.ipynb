{
 "cells": [
  {
   "cell_type": "code",
   "execution_count": 87,
   "metadata": {},
   "outputs": [],
   "source": [
    "from sqlalchemy import text\n",
    "from conect_database import engine\n",
    "# from conect_database import engine2\n",
    "import pandas as pd\n"
   ]
  },
  {
   "cell_type": "code",
   "execution_count": 82,
   "metadata": {},
   "outputs": [
    {
     "data": {
      "text/html": [
       "<div>\n",
       "<style scoped>\n",
       "    .dataframe tbody tr th:only-of-type {\n",
       "        vertical-align: middle;\n",
       "    }\n",
       "\n",
       "    .dataframe tbody tr th {\n",
       "        vertical-align: top;\n",
       "    }\n",
       "\n",
       "    .dataframe thead th {\n",
       "        text-align: right;\n",
       "    }\n",
       "</style>\n",
       "<table border=\"1\" class=\"dataframe\">\n",
       "  <thead>\n",
       "    <tr style=\"text-align: right;\">\n",
       "      <th></th>\n",
       "      <th>plataforma_id</th>\n",
       "      <th>plataforma</th>\n",
       "    </tr>\n",
       "  </thead>\n",
       "  <tbody>\n",
       "    <tr>\n",
       "      <th>0</th>\n",
       "      <td>1</td>\n",
       "      <td>Netflix</td>\n",
       "    </tr>\n",
       "    <tr>\n",
       "      <th>1</th>\n",
       "      <td>2</td>\n",
       "      <td>Disney</td>\n",
       "    </tr>\n",
       "  </tbody>\n",
       "</table>\n",
       "</div>"
      ],
      "text/plain": [
       "   plataforma_id plataforma\n",
       "0              1    Netflix\n",
       "1              2     Disney"
      ]
     },
     "execution_count": 82,
     "metadata": {},
     "output_type": "execute_result"
    }
   ],
   "source": [
    "dataframe = pd.DataFrame({'plataforma_id':[1,2],'plataforma':['Netflix', 'Disney']})\n",
    "dataframe"
   ]
  },
  {
   "cell_type": "code",
   "execution_count": 3,
   "metadata": {},
   "outputs": [],
   "source": [
    "query_load = \"\"\"LOAD DATA INFILE '../disney_plus_titles_data.csv'\n",
    "                INTO TABLE shows\n",
    "                FIELDS TERMINATED BY ','\n",
    "                OPTIONALLY ENCLOSED BY '\"'\n",
    "                LINES TERMINATED BY '\\r\\n';\"\"\""
   ]
  },
  {
   "cell_type": "code",
   "execution_count": 40,
   "metadata": {},
   "outputs": [],
   "source": [
    "conection2 = engine.connect()"
   ]
  },
  {
   "cell_type": "code",
   "execution_count": null,
   "metadata": {},
   "outputs": [],
   "source": [
    "# engine.execute(text(\"INSERT INTO plataforma (plataforma_id, Plataforma) VALUES ('2','Disney');\"))\n",
    "# engine.execute(text(\"LOAD DATA INFILE '../netflix_titles_data.csv' INTO TABLE shows;\"))\n",
    "# engine.execute(\"INSERT INTO plataforma (plataforma_id, Plataforma) VALUES ('4','Prime');\")\n",
    "engine.execute(\"INSERT INTO plataforma () VALUES ('dataframe');\")"
   ]
  },
  {
   "cell_type": "code",
   "execution_count": null,
   "metadata": {},
   "outputs": [],
   "source": [
    "with engine.connect() as connection:\n",
    "    carga = connection.execute(text(\"INSERT INTO `calendario` (plataforma_id, Plataforma) VALUES ('1','Netflix');\"))\n",
    "    # result = connection.execute(text(\"select * from calendario\"))\n",
    "    # carga = connection.execute(text(\"load data infile '../netflix_titles_data.csv' into table shows field terminated by ',' lines terminated by '\\r\\n'\";))\n",
    "    # for row in result:\n",
    "    #     print(row)"
   ]
  },
  {
   "cell_type": "code",
   "execution_count": null,
   "metadata": {},
   "outputs": [],
   "source": [
    "with engine.connect() as connection:\n",
    "    with connection.begin():\n",
    "        connection.execute(plataforma.select())\n",
    "        connection.execute(plataforma.insert(), {\"date\": 7, \"year\": \"this is some data\"})"
   ]
  },
  {
   "cell_type": "code",
   "execution_count": null,
   "metadata": {},
   "outputs": [],
   "source": [
    "conection2.execute(text(\"\"\"LOAD DATA INFILE '../disney_plus_titles_data.csv'\n",
    "                            INTO TABLE shows\"\"\"\n",
    "                            ))"
   ]
  },
  {
   "cell_type": "code",
   "execution_count": null,
   "metadata": {},
   "outputs": [],
   "source": [
    "conection2.execute(text(\"load data infile '../netflix_titles_data.csv' into table shows field terminated by ',' lines terminated by '\\r\\n';\"))"
   ]
  }
 ],
 "metadata": {
  "kernelspec": {
   "display_name": "Python 3.10.4 64-bit (system)",
   "language": "python",
   "name": "python3"
  },
  "language_info": {
   "codemirror_mode": {
    "name": "ipython",
    "version": 3
   },
   "file_extension": ".py",
   "mimetype": "text/x-python",
   "name": "python",
   "nbconvert_exporter": "python",
   "pygments_lexer": "ipython3",
   "version": "3.10.4"
  },
  "orig_nbformat": 4,
  "vscode": {
   "interpreter": {
    "hash": "fa8cab1bad71377b3e50ee4df9005f2d0dce3937bc143745a7570caa70559846"
   }
  }
 },
 "nbformat": 4,
 "nbformat_minor": 2
}
