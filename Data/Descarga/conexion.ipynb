{
 "cells": [
  {
   "cell_type": "markdown",
   "metadata": {},
   "source": [
    "**importar las librerias necesarias**"
   ]
  },
  {
   "cell_type": "code",
   "execution_count": 1,
   "metadata": {},
   "outputs": [],
   "source": [
    "import  boto3\n",
    "from botocore.client import Config\n",
    "import pandas as pd\n",
    "import credenciales"
   ]
  },
  {
   "cell_type": "markdown",
   "metadata": {},
   "source": [
    "**Generar la conexion, \"s3\" con las credenciales de acceso guardadas en el archivo por defecto\n",
    "\"~/.aws/credentials\" o utilizando \"cliente\" y almacenando las credenciales de forma local en el archivo credenciales.py**\n"
   ]
  },
  {
   "cell_type": "code",
   "execution_count": 3,
   "metadata": {},
   "outputs": [],
   "source": [
    "\"\"\"\n",
    "s3 = boto3.client('s3')\n",
    "\"\"\"\n",
    "cliente  = boto3.client( \n",
    "    's3' , \n",
    "    aws_access_key_id = credenciales.ACCESS_KEY , \n",
    "    aws_secret_access_key = credenciales.SECRET_KEY ,\n",
    ")\n"
   ]
  },
  {
   "cell_type": "markdown",
   "metadata": {},
   "source": [
    "**Variables de archivos**"
   ]
  },
  {
   "cell_type": "code",
   "execution_count": 4,
   "metadata": {},
   "outputs": [],
   "source": [
    "path_data = './{}'\n",
    "bucket = 'desafio-rkd'\n",
    "archivo1 = 'netflix_titles.csv'\n",
    "archivo2 = 'disney_plus_titles.csv'"
   ]
  },
  {
   "cell_type": "markdown",
   "metadata": {},
   "source": [
    "**Descargar los archivos para poder trabajarlos**\n"
   ]
  },
  {
   "cell_type": "code",
   "execution_count": 19,
   "metadata": {},
   "outputs": [],
   "source": [
    "# file1 = cliente.download_file('desafio-rkd', 'netflix_titles.csv', 'netflix_titles_data.csv')\n",
    "# file2 = cliente.download_file('desafio-rkd', 'disney_plus_titles.csv', 'disney_plus_titles_data.csv')\n",
    "\n",
    "try:\n",
    "    cliente.download_file(bucket, archivo1, path_data.format('netflix_titles_data.csv'))\n",
    "except Exception as ex:\n",
    "    print('Error al descargar')\n",
    "    print(ex)"
   ]
  }
 ],
 "metadata": {
  "kernelspec": {
   "display_name": "Python 3.10.2 64-bit (system)",
   "language": "python",
   "name": "python3"
  },
  "language_info": {
   "codemirror_mode": {
    "name": "ipython",
    "version": 3
   },
   "file_extension": ".py",
   "mimetype": "text/x-python",
   "name": "python",
   "nbconvert_exporter": "python",
   "pygments_lexer": "ipython3",
   "version": "3.10.2"
  },
  "orig_nbformat": 4,
  "vscode": {
   "interpreter": {
    "hash": "7a280ae802dc2277121302d2017bde43acb5a31c1712d9452431c45a278ff15e"
   }
  }
 },
 "nbformat": 4,
 "nbformat_minor": 2
}
