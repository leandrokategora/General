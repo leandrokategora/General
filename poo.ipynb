{
 "cells": [
  {
   "cell_type": "markdown",
   "metadata": {},
   "source": [
    "**APRENDER PROGRAMACION ORIENTADA A OBJETOS**"
   ]
  },
  {
   "cell_type": "code",
   "execution_count": 5,
   "metadata": {},
   "outputs": [],
   "source": [
    "class Cuadrado:\n",
    "    def __init__(self, ancho, alto):\n",
    "        self.alto = alto\n",
    "        self.ancho = ancho\n",
    "    def calculoArea(self):\n",
    "        area = self.alto * self.ancho\n",
    "        return area"
   ]
  },
  {
   "cell_type": "code",
   "execution_count": 3,
   "metadata": {},
   "outputs": [],
   "source": [
    "Mi_figura = Cuadrado(12, 7)"
   ]
  },
  {
   "cell_type": "code",
   "execution_count": 6,
   "metadata": {},
   "outputs": [
    {
     "name": "stdout",
     "output_type": "stream",
     "text": [
      "84\n"
     ]
    }
   ],
   "source": [
    "print(Mi_figura.calculoArea())"
   ]
  },
  {
   "cell_type": "markdown",
   "metadata": {},
   "source": [
    "**CLASES BASICAS**"
   ]
  },
  {
   "cell_type": "code",
   "execution_count": null,
   "metadata": {},
   "outputs": [],
   "source": [
    "class Empleado:\n",
    "    def __init__(self, nombre, apellido, dni, telefono, sueldo):\n",
    "        self.nombre = nombre\n",
    "        self.apellido = apellido\n",
    "        self.dni = dni\n",
    "        self.telefono = telefono\n",
    "        self.sueldo = sueldo\n",
    "# \n",
    "# \n",
    "class Cliente:\n",
    "    def __init__(self, nombre, apellido, dni, telefono):\n",
    "        self.nombre = nombre\n",
    "        self.apellido = apellido\n",
    "        self.dni = dni\n",
    "        self.telefono = telefono\n",
    "\n",
    "       "
   ]
  },
  {
   "cell_type": "markdown",
   "metadata": {},
   "source": [
    "** CLASES HEREDADAS**"
   ]
  },
  {
   "cell_type": "code",
   "execution_count": null,
   "metadata": {},
   "outputs": [],
   "source": [
    "class Persona:\n",
    "    def __init__(self, nombre, apellido, dni, telefono):\n",
    "        self.nombre = nombre\n",
    "        self.apellido = apellido\n",
    "        self.dni = dni\n",
    "        self.telefono = telefono"
   ]
  },
  {
   "cell_type": "markdown",
   "metadata": {},
   "source": [
    "*la clase empleado2 y cliente2 ahora van a heredar de la clase persona*"
   ]
  },
  {
   "cell_type": "code",
   "execution_count": null,
   "metadata": {},
   "outputs": [],
   "source": [
    "class Empleado2(Persona):\n",
    "# \n",
    "class Cliente2(Persona):\n"
   ]
  }
 ],
 "metadata": {
  "kernelspec": {
   "display_name": "Python 3.10.4 ('venv': venv)",
   "language": "python",
   "name": "python3"
  },
  "language_info": {
   "codemirror_mode": {
    "name": "ipython",
    "version": 3
   },
   "file_extension": ".py",
   "mimetype": "text/x-python",
   "name": "python",
   "nbconvert_exporter": "python",
   "pygments_lexer": "ipython3",
   "version": "3.10.4"
  },
  "orig_nbformat": 4,
  "vscode": {
   "interpreter": {
    "hash": "fa8cab1bad71377b3e50ee4df9005f2d0dce3937bc143745a7570caa70559846"
   }
  }
 },
 "nbformat": 4,
 "nbformat_minor": 2
}
